{
 "cells": [
  {
   "cell_type": "markdown",
   "id": "9edd1352",
   "metadata": {},
   "source": [
    "# The Sparks Foundation"
   ]
  },
  {
   "cell_type": "markdown",
   "id": "e9bf2a65",
   "metadata": {},
   "source": [
    "## Prediction Using Supervised ML\n",
    "## Author: Jesse O'Brien\n"
   ]
  },
  {
   "cell_type": "markdown",
   "id": "291eae80",
   "metadata": {},
   "source": [
    "### Introduction\n",
    "The objective of this task is to create a simple linear regression model that can predict a student's score based on the number of hours they study using Python. The data used in this project consists of 25 observations of two variables: \"Hours\" and \"Scores\"."
   ]
  },
  {
   "cell_type": "markdown",
   "id": "a6f19ca7",
   "metadata": {},
   "source": [
    "### Import required libraries\n",
    "We start by importing the required libraries"
   ]
  },
  {
   "cell_type": "code",
   "execution_count": 1,
   "id": "2f19de83",
   "metadata": {},
   "outputs": [],
   "source": [
    "import pandas as pd\n",
    "import numpy as np\n",
    "from sklearn.linear_model import LinearRegression\n",
    "from sklearn.model_selection import train_test_split\n",
    "import matplotlib.pyplot as plot\n",
    "from sklearn.metrics import r2_score"
   ]
  },
  {
   "cell_type": "markdown",
   "id": "77bfbfcc",
   "metadata": {},
   "source": [
    "### Load the data\n",
    "Next we load the data provided and check that it has imported correctly"
   ]
  },
  {
   "cell_type": "code",
   "execution_count": 2,
   "id": "e8ead733",
   "metadata": {},
   "outputs": [
    {
     "data": {
      "text/html": [
       "<div>\n",
       "<style scoped>\n",
       "    .dataframe tbody tr th:only-of-type {\n",
       "        vertical-align: middle;\n",
       "    }\n",
       "\n",
       "    .dataframe tbody tr th {\n",
       "        vertical-align: top;\n",
       "    }\n",
       "\n",
       "    .dataframe thead th {\n",
       "        text-align: right;\n",
       "    }\n",
       "</style>\n",
       "<table border=\"1\" class=\"dataframe\">\n",
       "  <thead>\n",
       "    <tr style=\"text-align: right;\">\n",
       "      <th></th>\n",
       "      <th>Hours</th>\n",
       "      <th>Scores</th>\n",
       "    </tr>\n",
       "  </thead>\n",
       "  <tbody>\n",
       "    <tr>\n",
       "      <th>0</th>\n",
       "      <td>2.5</td>\n",
       "      <td>21</td>\n",
       "    </tr>\n",
       "    <tr>\n",
       "      <th>1</th>\n",
       "      <td>5.1</td>\n",
       "      <td>47</td>\n",
       "    </tr>\n",
       "    <tr>\n",
       "      <th>2</th>\n",
       "      <td>3.2</td>\n",
       "      <td>27</td>\n",
       "    </tr>\n",
       "    <tr>\n",
       "      <th>3</th>\n",
       "      <td>8.5</td>\n",
       "      <td>75</td>\n",
       "    </tr>\n",
       "    <tr>\n",
       "      <th>4</th>\n",
       "      <td>3.5</td>\n",
       "      <td>30</td>\n",
       "    </tr>\n",
       "  </tbody>\n",
       "</table>\n",
       "</div>"
      ],
      "text/plain": [
       "   Hours  Scores\n",
       "0    2.5      21\n",
       "1    5.1      47\n",
       "2    3.2      27\n",
       "3    8.5      75\n",
       "4    3.5      30"
      ]
     },
     "execution_count": 2,
     "metadata": {},
     "output_type": "execute_result"
    }
   ],
   "source": [
    "url = \"https://raw.githubusercontent.com/AdiPersonalWorks/Random/master/student_scores%20-%20student_scores.csv\"\n",
    "data = pd.read_csv(url)\n",
    "data.head()"
   ]
  },
  {
   "cell_type": "markdown",
   "id": "f42caa04",
   "metadata": {},
   "source": [
    "### Split the data into training and testing datasets\n",
    "We split the data into training and testing datasets using the train_test_split() function from scikit-learn"
   ]
  },
  {
   "cell_type": "code",
   "execution_count": 3,
   "id": "25b9f387",
   "metadata": {},
   "outputs": [],
   "source": [
    "X = data.iloc[:, :-1].values\n",
    "y = data.iloc[:, 1].values\n",
    "X_train, X_test, y_train, y_test = train_test_split(X, y, test_size=0.2, random_state=0)"
   ]
  },
  {
   "cell_type": "markdown",
   "id": "bf68e4f6",
   "metadata": {},
   "source": [
    "### Train the model\n",
    "We create our linear regression model using the LinearRegression() class imported from scikit-learn and begin to train it on the training dataset"
   ]
  },
  {
   "cell_type": "code",
   "execution_count": 4,
   "id": "39995134",
   "metadata": {},
   "outputs": [
    {
     "data": {
      "text/plain": [
       "LinearRegression()"
      ]
     },
     "execution_count": 4,
     "metadata": {},
     "output_type": "execute_result"
    }
   ],
   "source": [
    "regressor = LinearRegression()\n",
    "regressor.fit(X_train, y_train)"
   ]
  },
  {
   "cell_type": "markdown",
   "id": "24c819c4",
   "metadata": {},
   "source": [
    "### Make predictions\n",
    "We use the now trained model to make predictions on the testing dataset "
   ]
  },
  {
   "cell_type": "code",
   "execution_count": 5,
   "id": "e13f9a16",
   "metadata": {},
   "outputs": [],
   "source": [
    "y_pred = regressor.predict(X_test)"
   ]
  },
  {
   "cell_type": "markdown",
   "id": "941159b0",
   "metadata": {},
   "source": [
    "### Visualizing the results\n",
    "We visualize the results using matplotlib"
   ]
  },
  {
   "cell_type": "code",
   "execution_count": 6,
   "id": "b468df8b",
   "metadata": {},
   "outputs": [
    {
     "data": {
      "image/png": "[encoded data removed]",
      "text/plain": [
       "<Figure size 640x480 with 1 Axes>"
      ]
     },
     "metadata": {},
     "output_type": "display_data"
    }
   ],
   "source": [
    "plot.scatter(X_test, y_test, color='red')\n",
    "plot.plot(X_test, y_pred, color='blue')\n",
    "plot.title('Hours vs Scores (Test set)')\n",
    "plot.xlabel('Hours')\n",
    "plot.ylabel('Scores')\n",
    "plot.show()"
   ]
  },
  {
   "cell_type": "code",
   "execution_count": 7,
   "id": "a281ec9d",
   "metadata": {},
   "outputs": [
    {
     "name": "stdout",
     "output_type": "stream",
     "text": [
      "0.9454906892105354\n"
     ]
    }
   ],
   "source": [
    "accuracy = r2_score(y_test, y_pred)\n",
    "print(accuracy)"
   ]
  },
  {
   "cell_type": "markdown",
   "id": "dc8e0e0b",
   "metadata": {},
   "source": [
    "### Results\n",
    "\n",
    "The blue line in the visualization represents the regression line, while the red dots represent the actual data points from the testing dataset. As we can see, the model was able to fit the data well and predict the scores accurately.\n",
    "\n",
    "To further show the accuracy of the model we have pulled the coefficient of determination, also known as R-squared. This tells us that the model is able to predict the scores of the testing dataset with an accuracy of approximately 94%."
   ]
  },
  {
   "cell_type": "markdown",
   "id": "a71a424e",
   "metadata": {},
   "source": [
    "### What will be predicted score if a student studies for 9.25 hrs/ day?"
   ]
  },
  {
   "cell_type": "code",
   "execution_count": 8,
   "id": "1d2f5cdb",
   "metadata": {},
   "outputs": [
    {
     "name": "stdout",
     "output_type": "stream",
     "text": [
      "Predicted score: 93.69\n"
     ]
    }
   ],
   "source": [
    "# hours\n",
    "hours = float(9.25)\n",
    "\n",
    "# convert the hours to a numpy array and reshape it so it resembles the data it was trained on\n",
    "hours_array = np.array(hours).reshape(-1, 1)\n",
    "\n",
    "# use the trained model to make a prediction\n",
    "predicted_score = regressor.predict(hours_array)\n",
    "\n",
    "print(\"Predicted score: {:.2f}\".format(predicted_score[0]))"
   ]
  },
  {
   "cell_type": "markdown",
   "id": "13c6394a",
   "metadata": {},
   "source": [
    "### Conclusion\n",
    "To conclude, the simple linear regression model created in this project is able to accurately predict a student's score based on the number of hours they studied. The predicted score for a student who studies 9.25 hrs per day is 93.69. This tool could be used by teachers or students to predict their performance based on their current study habbits.\n",
    "\n",
    "Additionally, I have added code with an input function below for anybody to input their own hours to receive a prediction from this model."
   ]
  },
  {
   "cell_type": "code",
   "execution_count": null,
   "id": "398b0925",
   "metadata": {},
   "outputs": [],
   "source": [
    "# allow user to input their hours\n",
    "hours = float(input(\"Enter the number of hours: \"))\n",
    "\n",
    "# convert hours to a numpy array and reshape it\n",
    "hours_array = np.array(hours).reshape(-1, 1)\n",
    "\n",
    "# use the trained model to make a prediction\n",
    "predicted_score = regressor.predict(hours_array)\n",
    "\n",
    "print(\"Predicted score: {:.2f}\".format(predicted_score[0]))"
   ]
  }
 ],
 "metadata": {
  "kernelspec": {
   "display_name": "Python 3 (ipykernel)",
   "language": "python",
   "name": "python3"
  },
  "language_info": {
   "codemirror_mode": {
    "name": "ipython",
    "version": 3
   },
   "file_extension": ".py",
   "mimetype": "text/x-python",
   "name": "python",
   "nbconvert_exporter": "python",
   "pygments_lexer": "ipython3",
   "version": "3.9.13"
  }
 },
 "nbformat": 4,
 "nbformat_minor": 5
}
